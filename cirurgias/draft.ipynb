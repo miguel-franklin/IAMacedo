{
 "cells": [
  {
   "cell_type": "code",
   "execution_count": 2,
   "outputs": [],
   "source": [
    "import pandas as pd"
   ],
   "metadata": {
    "collapsed": false,
    "pycharm": {
     "name": "#%%\n"
    }
   }
  },
  {
   "cell_type": "code",
   "execution_count": 5,
   "outputs": [],
   "source": [
    "df = pd.read_csv('specialty.csv')\n",
    "df = pd.read_csv('general.csv')"
   ],
   "metadata": {
    "collapsed": false,
    "pycharm": {
     "name": "#%%\n"
    }
   }
  },
  {
   "cell_type": "code",
   "execution_count": 8,
   "outputs": [
    {
     "data": {
      "text/plain": "     _id  FACILITY_CODE      FACILITY_DESC QTR_MON_YEAR CATEGORY  \\\n0      1            211  Atherton Hospital      DEC2021        1   \n1      2            211  Atherton Hospital      DEC2021        2   \n2      3            211  Atherton Hospital      DEC2021        3   \n3      4            211  Atherton Hospital      DEC2021      ALL   \n4      5            191       Ayr Hospital      DEC2021        1   \n..   ...            ...                ...          ...      ...   \n211  212            105   Warwick Hospital      DEC2021      ALL   \n212  213            228     Weipa Hospital      DEC2021        1   \n213  214            228     Weipa Hospital      DEC2021        2   \n214  215            228     Weipa Hospital      DEC2021        3   \n215  216            228     Weipa Hospital      DEC2021      ALL   \n\n     TREATED_QTR_CURRENT  PERC_TREATED_IN_TIME_QTR  TREATED_VARIANCE_QTR  \\\n0                     12                      83.3                 -14.3   \n1                     24                     100.0                   0.0   \n2                     32                     100.0                  18.5   \n3                     68                      97.1                   4.6   \n4                      1                     100.0                   0.0   \n..                   ...                       ...                   ...   \n211                   68                     100.0                 -16.0   \n212                    0                       0.0                -100.0   \n213                   10                     100.0                 400.0   \n214                   19                     100.0                 -68.9   \n215                   29                     100.0                 -55.4   \n\n     WAITING_EOQ  LONG_WAIT_EOQ  PERCENT_WAITING_IN_TIME_EOQ  \\\n0              1              0                        100.0   \n1              5              0                        100.0   \n2             29              0                        100.0   \n3             35              0                        100.0   \n4              0              0                          0.0   \n..           ...            ...                          ...   \n211           34              0                        100.0   \n212            1              1                          0.0   \n213            4              1                         75.0   \n214           26             13                         50.0   \n215           31             15                         51.6   \n\n               Data Date  RFS_LONG_WAIT_EOQ  NRFS_LONG_WAIT_EOQ  \\\n0    2022-01-17T00:00:00                  0                   0   \n1    2022-01-17T00:00:00                  0                   0   \n2    2022-01-17T00:00:00                  0                   0   \n3    2022-01-17T00:00:00                  0                   0   \n4    2022-01-17T00:00:00                  0                   0   \n..                   ...                ...                 ...   \n211  2022-01-17T00:00:00                  0                   0   \n212  2022-01-17T00:00:00                  1                   0   \n213  2022-01-17T00:00:00                  1                   0   \n214  2022-01-17T00:00:00                 13                   0   \n215  2022-01-17T00:00:00                 15                   0   \n\n     PERCENT_RFS_WAITING_IN_TIME_EOQ  \n0                              100.0  \n1                              100.0  \n2                              100.0  \n3                              100.0  \n4                                0.0  \n..                               ...  \n211                            100.0  \n212                              0.0  \n213                             75.0  \n214                             50.0  \n215                             51.6  \n\n[216 rows x 15 columns]",
      "text/html": "<div>\n<style scoped>\n    .dataframe tbody tr th:only-of-type {\n        vertical-align: middle;\n    }\n\n    .dataframe tbody tr th {\n        vertical-align: top;\n    }\n\n    .dataframe thead th {\n        text-align: right;\n    }\n</style>\n<table border=\"1\" class=\"dataframe\">\n  <thead>\n    <tr style=\"text-align: right;\">\n      <th></th>\n      <th>_id</th>\n      <th>FACILITY_CODE</th>\n      <th>FACILITY_DESC</th>\n      <th>QTR_MON_YEAR</th>\n      <th>CATEGORY</th>\n      <th>TREATED_QTR_CURRENT</th>\n      <th>PERC_TREATED_IN_TIME_QTR</th>\n      <th>TREATED_VARIANCE_QTR</th>\n      <th>WAITING_EOQ</th>\n      <th>LONG_WAIT_EOQ</th>\n      <th>PERCENT_WAITING_IN_TIME_EOQ</th>\n      <th>Data Date</th>\n      <th>RFS_LONG_WAIT_EOQ</th>\n      <th>NRFS_LONG_WAIT_EOQ</th>\n      <th>PERCENT_RFS_WAITING_IN_TIME_EOQ</th>\n    </tr>\n  </thead>\n  <tbody>\n    <tr>\n      <th>0</th>\n      <td>1</td>\n      <td>211</td>\n      <td>Atherton Hospital</td>\n      <td>DEC2021</td>\n      <td>1</td>\n      <td>12</td>\n      <td>83.3</td>\n      <td>-14.3</td>\n      <td>1</td>\n      <td>0</td>\n      <td>100.0</td>\n      <td>2022-01-17T00:00:00</td>\n      <td>0</td>\n      <td>0</td>\n      <td>100.0</td>\n    </tr>\n    <tr>\n      <th>1</th>\n      <td>2</td>\n      <td>211</td>\n      <td>Atherton Hospital</td>\n      <td>DEC2021</td>\n      <td>2</td>\n      <td>24</td>\n      <td>100.0</td>\n      <td>0.0</td>\n      <td>5</td>\n      <td>0</td>\n      <td>100.0</td>\n      <td>2022-01-17T00:00:00</td>\n      <td>0</td>\n      <td>0</td>\n      <td>100.0</td>\n    </tr>\n    <tr>\n      <th>2</th>\n      <td>3</td>\n      <td>211</td>\n      <td>Atherton Hospital</td>\n      <td>DEC2021</td>\n      <td>3</td>\n      <td>32</td>\n      <td>100.0</td>\n      <td>18.5</td>\n      <td>29</td>\n      <td>0</td>\n      <td>100.0</td>\n      <td>2022-01-17T00:00:00</td>\n      <td>0</td>\n      <td>0</td>\n      <td>100.0</td>\n    </tr>\n    <tr>\n      <th>3</th>\n      <td>4</td>\n      <td>211</td>\n      <td>Atherton Hospital</td>\n      <td>DEC2021</td>\n      <td>ALL</td>\n      <td>68</td>\n      <td>97.1</td>\n      <td>4.6</td>\n      <td>35</td>\n      <td>0</td>\n      <td>100.0</td>\n      <td>2022-01-17T00:00:00</td>\n      <td>0</td>\n      <td>0</td>\n      <td>100.0</td>\n    </tr>\n    <tr>\n      <th>4</th>\n      <td>5</td>\n      <td>191</td>\n      <td>Ayr Hospital</td>\n      <td>DEC2021</td>\n      <td>1</td>\n      <td>1</td>\n      <td>100.0</td>\n      <td>0.0</td>\n      <td>0</td>\n      <td>0</td>\n      <td>0.0</td>\n      <td>2022-01-17T00:00:00</td>\n      <td>0</td>\n      <td>0</td>\n      <td>0.0</td>\n    </tr>\n    <tr>\n      <th>...</th>\n      <td>...</td>\n      <td>...</td>\n      <td>...</td>\n      <td>...</td>\n      <td>...</td>\n      <td>...</td>\n      <td>...</td>\n      <td>...</td>\n      <td>...</td>\n      <td>...</td>\n      <td>...</td>\n      <td>...</td>\n      <td>...</td>\n      <td>...</td>\n      <td>...</td>\n    </tr>\n    <tr>\n      <th>211</th>\n      <td>212</td>\n      <td>105</td>\n      <td>Warwick Hospital</td>\n      <td>DEC2021</td>\n      <td>ALL</td>\n      <td>68</td>\n      <td>100.0</td>\n      <td>-16.0</td>\n      <td>34</td>\n      <td>0</td>\n      <td>100.0</td>\n      <td>2022-01-17T00:00:00</td>\n      <td>0</td>\n      <td>0</td>\n      <td>100.0</td>\n    </tr>\n    <tr>\n      <th>212</th>\n      <td>213</td>\n      <td>228</td>\n      <td>Weipa Hospital</td>\n      <td>DEC2021</td>\n      <td>1</td>\n      <td>0</td>\n      <td>0.0</td>\n      <td>-100.0</td>\n      <td>1</td>\n      <td>1</td>\n      <td>0.0</td>\n      <td>2022-01-17T00:00:00</td>\n      <td>1</td>\n      <td>0</td>\n      <td>0.0</td>\n    </tr>\n    <tr>\n      <th>213</th>\n      <td>214</td>\n      <td>228</td>\n      <td>Weipa Hospital</td>\n      <td>DEC2021</td>\n      <td>2</td>\n      <td>10</td>\n      <td>100.0</td>\n      <td>400.0</td>\n      <td>4</td>\n      <td>1</td>\n      <td>75.0</td>\n      <td>2022-01-17T00:00:00</td>\n      <td>1</td>\n      <td>0</td>\n      <td>75.0</td>\n    </tr>\n    <tr>\n      <th>214</th>\n      <td>215</td>\n      <td>228</td>\n      <td>Weipa Hospital</td>\n      <td>DEC2021</td>\n      <td>3</td>\n      <td>19</td>\n      <td>100.0</td>\n      <td>-68.9</td>\n      <td>26</td>\n      <td>13</td>\n      <td>50.0</td>\n      <td>2022-01-17T00:00:00</td>\n      <td>13</td>\n      <td>0</td>\n      <td>50.0</td>\n    </tr>\n    <tr>\n      <th>215</th>\n      <td>216</td>\n      <td>228</td>\n      <td>Weipa Hospital</td>\n      <td>DEC2021</td>\n      <td>ALL</td>\n      <td>29</td>\n      <td>100.0</td>\n      <td>-55.4</td>\n      <td>31</td>\n      <td>15</td>\n      <td>51.6</td>\n      <td>2022-01-17T00:00:00</td>\n      <td>15</td>\n      <td>0</td>\n      <td>51.6</td>\n    </tr>\n  </tbody>\n</table>\n<p>216 rows × 15 columns</p>\n</div>"
     },
     "execution_count": 8,
     "metadata": {},
     "output_type": "execute_result"
    }
   ],
   "source": [
    "df.describe()\n",
    "df"
   ],
   "metadata": {
    "collapsed": false,
    "pycharm": {
     "name": "#%%\n"
    }
   }
  },
  {
   "cell_type": "code",
   "execution_count": null,
   "outputs": [],
   "source": [],
   "metadata": {
    "collapsed": false,
    "pycharm": {
     "name": "#%%\n"
    }
   }
  }
 ],
 "metadata": {
  "kernelspec": {
   "display_name": "Python 3",
   "language": "python",
   "name": "python3"
  },
  "language_info": {
   "codemirror_mode": {
    "name": "ipython",
    "version": 2
   },
   "file_extension": ".py",
   "mimetype": "text/x-python",
   "name": "python",
   "nbconvert_exporter": "python",
   "pygments_lexer": "ipython2",
   "version": "2.7.6"
  }
 },
 "nbformat": 4,
 "nbformat_minor": 0
}